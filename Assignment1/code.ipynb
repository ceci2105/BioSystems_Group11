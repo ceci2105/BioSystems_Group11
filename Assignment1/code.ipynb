{
 "cells": [
  {
   "metadata": {
    "ExecuteTime": {
     "end_time": "2025-09-10T11:31:21.101408Z",
     "start_time": "2025-09-10T11:31:21.090597Z"
    }
   },
   "cell_type": "code",
   "source": [
    "import cobra\n",
    "import numpy as np\n",
    "import matplotlib.pyplot as plt\n",
    "import pandas as pd\n",
    "from cobra.flux_analysis import variability\n",
    "\n",
    "expression_data = pd.read_csv('e_coli_core_expression.csv', index_col=0)\n",
    "expression_data.sort_values(by=' reaction activity [mmol/gDW/h] ', ascending=False, inplace=True)\n",
    "# expression_data"
   ],
   "outputs": [],
   "execution_count": 7
  },
  {
   "metadata": {
    "ExecuteTime": {
     "end_time": "2025-09-10T11:31:21.206777Z",
     "start_time": "2025-09-10T11:31:21.117375Z"
    }
   },
   "cell_type": "code",
   "source": [
    "model = cobra.io.load_json_model('e_coli_core.json')\n",
    "# model"
   ],
   "outputs": [],
   "execution_count": 8
  },
  {
   "metadata": {},
   "cell_type": "markdown",
   "source": [
    "Observations:\n",
    "1. There are 95 reactions but only 73 have data!"
   ]
  },
  {
   "metadata": {},
   "cell_type": "markdown",
   "source": "# Excercise 1"
  },
  {
   "metadata": {},
   "cell_type": "markdown",
   "source": "No code required so answer is in the README.md"
  },
  {
   "metadata": {},
   "cell_type": "markdown",
   "source": "# Excercise 2"
  },
  {
   "metadata": {
    "ExecuteTime": {
     "end_time": "2025-09-10T11:31:21.223941Z",
     "start_time": "2025-09-10T11:31:21.218150Z"
    }
   },
   "cell_type": "code",
   "source": [
    "reactionsWithData = set(expression_data.index) # List of reactions with expression data from csv\n",
    "reactionsInModel = set([reaction.id for reaction in model.reactions]) # List of reactions in the model\n",
    "reactionsWithoutData = reactionsInModel - reactionsWithData # Set difference to find reactions without data\n",
    "print(f\"Number of reactions in the model: {len(reactionsInModel)}\")\n",
    "print(f\"Number of reactions with expression data: {len(reactionsWithData)}\")\n",
    "print(f\"Number of reactions without expression data: {len(reactionsWithoutData)}\")\n",
    "print(f\"Reactions with expression data: {reactionsWithData}\")\n",
    "print(f\"Reactions in the model but not in expression data: {reactionsWithoutData}\")"
   ],
   "outputs": [
    {
     "name": "stdout",
     "output_type": "stream",
     "text": [
      "Number of reactions in the model: 95\n",
      "Number of reactions with expression data: 73\n",
      "Number of reactions without expression data: 22\n",
      "Reactions with expression data: {'FUM', 'FBP', 'ICDHyr', 'PDH', 'GLCpts', 'ICL', 'MDH', 'TPI', 'GAPD', 'ACALDt', 'LDH_D', 'ACONTa', 'SUCOAS', 'PIt2r', 'FUMt2_2', 'PFL', 'MALt2_2', 'PPS', 'ENO', 'ACt2r', 'NADH16', 'GLUSy', 'CS', 'NH4t', 'GLUN', 'D_LACt2', 'NADTRHD', 'ME2', 'PGI', 'CYTBD', 'FBA', 'CO2t', 'AKGDH', 'FRUpts2', 'SUCCt3', 'SUCDi', 'PTAr', 'THD2', 'MALS', 'RPE', 'GND', 'RPI', 'ADK1', 'ACONTb', 'PGM', 'TALA', 'GLUt2r', 'TKT1', 'PGK', 'PPCK', 'FORt2', 'GLUDy', 'GLNS', 'O2t', 'AKGt2r', 'PFK', 'TKT2', 'PPC', 'ALCD2x', 'FRD7', 'FORt', 'PYRt2', 'ME1', 'PGL', 'SUCCt2_2', 'G6PDH2r', 'ETOHt2r', 'ACALD', 'ACKr', 'H2Ot', 'ATPS4r', 'GLNabc', 'PYK'}\n",
      "Reactions in the model but not in expression data: {'EX_nh4_e', 'EX_acald_e', 'EX_co2_e', 'EX_o2_e', 'EX_etoh_e', 'EX_lac__D_e', 'EX_pi_e', 'EX_fru_e', 'EX_succ_e', 'EX_pyr_e', 'EX_h2o_e', 'BIOMASS_Ecoli_core_w_GAM', 'EX_akg_e', 'EX_glc__D_e', 'ATPM', 'EX_ac_e', 'EX_h_e', 'EX_for_e', 'EX_fum_e', 'EX_glu__L_e', 'EX_mal__L_e', 'EX_gln__L_e'}\n"
     ]
    }
   ],
   "execution_count": 9
  },
  {
   "metadata": {
    "ExecuteTime": {
     "end_time": "2025-09-10T11:31:21.262672Z",
     "start_time": "2025-09-10T11:31:21.253809Z"
    }
   },
   "cell_type": "code",
   "source": [
    "# Create a dictionary to map reaction IDs to their expression values\n",
    "expression_dict = expression_data[' reaction activity [mmol/gDW/h] '].to_dict()\n",
    "\n",
    "# reversible & irreversible reactions among the reactions with data\n",
    "reversible_reactions = [reaction for reaction in model.reactions if reaction.id in expression_dict and reaction.reversibility]\n",
    "irreversible_reactions = [reaction for reaction in model.reactions if reaction.id in expression_dict and not reaction.reversibility]\n",
    "len(reversible_reactions), len(irreversible_reactions)\n",
    "\n",
    "# NOTICE THAT GLUCOSE EXCHANGE & ATPM ARE NOT IN THE EXPRESSION DATA!!! Also the lengths of lists match the expected values :D"
   ],
   "outputs": [
    {
     "data": {
      "text/plain": [
       "(39, 34)"
      ]
     },
     "execution_count": 10,
     "metadata": {},
     "output_type": "execute_result"
    }
   ],
   "execution_count": 10
  },
  {
   "metadata": {
    "ExecuteTime": {
     "end_time": "2025-09-10T11:31:21.285149Z",
     "start_time": "2025-09-10T11:31:21.274926Z"
    }
   },
   "cell_type": "code",
   "source": [
    "# 1. For reversible reactions with expression data, set lower and upper bounds to -value and +value usinf expression_dict!\n",
    "for reaction in reversible_reactions:\n",
    "    value = expression_dict[reaction.id]\n",
    "    reaction.lower_bound = -value\n",
    "    reaction.upper_bound = value\n",
    "    \n",
    "\n",
    "# 2. For irreversible reactions with expression data, set lower and upper bounds to 0 and value or -value and 0 depending on the original bounds\n",
    "# (THIS IS TRICKY BECAUSE THE DIRECTIONS ARE NOT CONSISTENT)\n",
    "for reaction in irreversible_reactions:\n",
    "    value = expression_dict[reaction.id]\n",
    "    if reaction.upper_bound > 0:\n",
    "        reaction.upper_bound = value\n",
    "    elif reaction.lower_bound < 0:\n",
    "        reaction.lower_bound = -value\n",
    "        \n",
    "# 3. For reactions without data, leave bounds as is. No change required since its in the NO DATA REACTIONS list\n",
    "\n",
    "# 4. For glucose exchange reaction, set bounds to -1000 and 1000\n",
    "glucose_exchange = model.reactions.get_by_id('EX_glc__D_e')\n",
    "glucose_exchange.lower_bound = -1000\n",
    "glucose_exchange.upper_bound = 1000\n",
    "\n",
    "# 5. For ATPM reaction, leave bounds as is. No change required since its in the NO DATA REACTIONS list"
   ],
   "outputs": [],
   "execution_count": 11
  },
  {
   "metadata": {
    "ExecuteTime": {
     "end_time": "2025-09-10T11:31:21.310233Z",
     "start_time": "2025-09-10T11:31:21.304302Z"
    }
   },
   "cell_type": "code",
   "source": [
    "# print a table listing each reaction’s lower and upper flux bound after implementing the above\n",
    "for reaction in model.reactions:\n",
    "    print(f\"{reaction.id}: Lower Bound = {reaction.lower_bound}, Upper Bound = {reaction.upper_bound}\")"
   ],
   "outputs": [
    {
     "name": "stdout",
     "output_type": "stream",
     "text": [
      "PFK: Lower Bound = 0.0, Upper Bound = 12.12\n",
      "PFL: Lower Bound = 0.0, Upper Bound = 1.0\n",
      "PGI: Lower Bound = -13.12, Upper Bound = 13.12\n",
      "PGK: Lower Bound = -23.13, Upper Bound = 23.13\n",
      "PGL: Lower Bound = 0.0, Upper Bound = 8.12\n",
      "ACALD: Lower Bound = -1.16, Upper Bound = 1.16\n",
      "AKGt2r: Lower Bound = -3.1, Upper Bound = 3.1\n",
      "PGM: Lower Bound = -20.01, Upper Bound = 20.01\n",
      "PIt2r: Lower Bound = -6.03, Upper Bound = 6.03\n",
      "ALCD2x: Lower Bound = -9.01, Upper Bound = 9.01\n",
      "ACALDt: Lower Bound = -2.29, Upper Bound = 2.29\n",
      "ACKr: Lower Bound = -1.19, Upper Bound = 1.19\n",
      "PPC: Lower Bound = 0.0, Upper Bound = 2.56\n",
      "ACONTa: Lower Bound = -25.35, Upper Bound = 25.35\n",
      "ACONTb: Lower Bound = -25.35, Upper Bound = 25.35\n",
      "ATPM: Lower Bound = 8.39, Upper Bound = 1000.0\n",
      "PPCK: Lower Bound = 0.0, Upper Bound = 25.23\n",
      "ACt2r: Lower Bound = -3.23, Upper Bound = 3.23\n",
      "PPS: Lower Bound = 0.0, Upper Bound = 2.5\n",
      "ADK1: Lower Bound = -30.57, Upper Bound = 30.57\n",
      "AKGDH: Lower Bound = 0.0, Upper Bound = 24.35\n",
      "ATPS4r: Lower Bound = -60.5, Upper Bound = 60.5\n",
      "PTAr: Lower Bound = -4.47, Upper Bound = 4.47\n",
      "PYK: Lower Bound = 0.0, Upper Bound = 26.78\n",
      "BIOMASS_Ecoli_core_w_GAM: Lower Bound = 0.0, Upper Bound = 1000.0\n",
      "PYRt2: Lower Bound = -1.26, Upper Bound = 1.26\n",
      "CO2t: Lower Bound = -30.45, Upper Bound = 30.45\n",
      "RPE: Lower Bound = -5.67, Upper Bound = 5.67\n",
      "CS: Lower Bound = 0.0, Upper Bound = 20.56\n",
      "RPI: Lower Bound = -5.56, Upper Bound = 5.56\n",
      "SUCCt2_2: Lower Bound = 0.0, Upper Bound = 2.36\n",
      "CYTBD: Lower Bound = 0.0, Upper Bound = 40.56\n",
      "D_LACt2: Lower Bound = -4.56, Upper Bound = 4.56\n",
      "ENO: Lower Bound = -28.78, Upper Bound = 28.78\n",
      "SUCCt3: Lower Bound = 0.0, Upper Bound = 6.67\n",
      "ETOHt2r: Lower Bound = -2.34, Upper Bound = 2.34\n",
      "SUCDi: Lower Bound = 0.0, Upper Bound = 24.34\n",
      "SUCOAS: Lower Bound = -20.6, Upper Bound = 20.6\n",
      "TALA: Lower Bound = -4.45, Upper Bound = 4.45\n",
      "THD2: Lower Bound = 0.0, Upper Bound = 4.5\n",
      "TKT1: Lower Bound = -3.34, Upper Bound = 3.34\n",
      "TKT2: Lower Bound = -3.34, Upper Bound = 3.34\n",
      "TPI: Lower Bound = -45.56, Upper Bound = 45.56\n",
      "EX_ac_e: Lower Bound = 0.0, Upper Bound = 1000.0\n",
      "EX_acald_e: Lower Bound = 0.0, Upper Bound = 1000.0\n",
      "EX_akg_e: Lower Bound = 0.0, Upper Bound = 1000.0\n",
      "EX_co2_e: Lower Bound = -1000.0, Upper Bound = 1000.0\n",
      "EX_etoh_e: Lower Bound = 0.0, Upper Bound = 1000.0\n",
      "EX_for_e: Lower Bound = 0.0, Upper Bound = 1000.0\n",
      "EX_fru_e: Lower Bound = 0.0, Upper Bound = 1000.0\n",
      "EX_fum_e: Lower Bound = 0.0, Upper Bound = 1000.0\n",
      "EX_glc__D_e: Lower Bound = -1000, Upper Bound = 1000\n",
      "EX_gln__L_e: Lower Bound = 0.0, Upper Bound = 1000.0\n",
      "EX_glu__L_e: Lower Bound = 0.0, Upper Bound = 1000.0\n",
      "EX_h_e: Lower Bound = -1000.0, Upper Bound = 1000.0\n",
      "EX_h2o_e: Lower Bound = -1000.0, Upper Bound = 1000.0\n",
      "EX_lac__D_e: Lower Bound = 0.0, Upper Bound = 1000.0\n",
      "EX_mal__L_e: Lower Bound = 0.0, Upper Bound = 1000.0\n",
      "EX_nh4_e: Lower Bound = -1000.0, Upper Bound = 1000.0\n",
      "EX_o2_e: Lower Bound = -1000.0, Upper Bound = 1000.0\n",
      "EX_pi_e: Lower Bound = -1000.0, Upper Bound = 1000.0\n",
      "EX_pyr_e: Lower Bound = 0.0, Upper Bound = 1000.0\n",
      "EX_succ_e: Lower Bound = 0.0, Upper Bound = 1000.0\n",
      "FBA: Lower Bound = -24.45, Upper Bound = 24.45\n",
      "FBP: Lower Bound = 0.0, Upper Bound = 2.35\n",
      "FORt2: Lower Bound = 0.0, Upper Bound = 1.28\n",
      "FORt: Lower Bound = -2.34, Upper Bound = 0.0\n",
      "FRD7: Lower Bound = 0.0, Upper Bound = 20.07\n",
      "FRUpts2: Lower Bound = 0.0, Upper Bound = 10.08\n",
      "FUM: Lower Bound = -24.35, Upper Bound = 24.35\n",
      "FUMt2_2: Lower Bound = 0.0, Upper Bound = 2.45\n",
      "G6PDH2r: Lower Bound = -5.68, Upper Bound = 5.68\n",
      "GAPD: Lower Bound = -26.13, Upper Bound = 26.13\n",
      "GLCpts: Lower Bound = 0.0, Upper Bound = 16.34\n",
      "GLNS: Lower Bound = 0.0, Upper Bound = 3.45\n",
      "GLNabc: Lower Bound = 0.0, Upper Bound = 0.25\n",
      "GLUDy: Lower Bound = -7.35, Upper Bound = 7.35\n",
      "GLUN: Lower Bound = 0.0, Upper Bound = 6.25\n",
      "GLUSy: Lower Bound = 0.0, Upper Bound = 7.35\n",
      "GLUt2r: Lower Bound = -4.12, Upper Bound = 4.12\n",
      "GND: Lower Bound = 0.0, Upper Bound = 6.72\n",
      "H2Ot: Lower Bound = -20.06, Upper Bound = 20.06\n",
      "ICDHyr: Lower Bound = -15.06, Upper Bound = 15.06\n",
      "ICL: Lower Bound = 0.0, Upper Bound = 14.07\n",
      "LDH_D: Lower Bound = -2.07, Upper Bound = 2.07\n",
      "MALS: Lower Bound = 0.0, Upper Bound = 9.12\n",
      "MALt2_2: Lower Bound = 0.0, Upper Bound = 8.87\n",
      "MDH: Lower Bound = -4.26, Upper Bound = 4.26\n",
      "ME1: Lower Bound = 0.0, Upper Bound = 3.24\n",
      "ME2: Lower Bound = 0.0, Upper Bound = 3.34\n",
      "NADH16: Lower Bound = 0.0, Upper Bound = 20.26\n",
      "NADTRHD: Lower Bound = 0.0, Upper Bound = 1.26\n",
      "NH4t: Lower Bound = -3.45, Upper Bound = 3.45\n",
      "O2t: Lower Bound = -40.67, Upper Bound = 40.67\n",
      "PDH: Lower Bound = 0.0, Upper Bound = 32.32\n"
     ]
    }
   ],
   "execution_count": 12
  },
  {
   "metadata": {},
   "cell_type": "markdown",
   "source": "# Excercise 3"
  },
  {
   "metadata": {
    "ExecuteTime": {
     "end_time": "2025-09-10T11:31:34.927546Z",
     "start_time": "2025-09-10T11:31:21.362077Z"
    }
   },
   "cell_type": "code",
   "source": [
    "# compute FVA for all reactions \n",
    "\n",
    "fva = variability.flux_variability_analysis(\n",
    "    model=model,\n",
    "    reaction_list=model.reactions,\n",
    "    loopless=False,\n",
    "    fraction_of_optimum=0.0 # we do not impose any minimum growth level\n",
    ")\n",
    "\n",
    "# print a table with the reaction id and the corresponding min and max flux\n",
    "print (\"FVA minimal and maximal fluxes\")\n",
    "print(fva)"
   ],
   "outputs": [
    {
     "name": "stdout",
     "output_type": "stream",
     "text": [
      "FVA minimal and maximal fluxes\n",
      "           minimum    maximum\n",
      "PFK       0.334677  11.153556\n",
      "PFL       0.000000   1.000000\n",
      "PGI      -0.085323   9.020351\n",
      "PGK     -17.596002  -0.879355\n",
      "PGL       0.000000   4.522388\n",
      "...            ...        ...\n",
      "NADH16    1.831111  20.260000\n",
      "NADTRHD   0.000000   1.260000\n",
      "NH4t      0.000000   3.450000\n",
      "O2t       0.500000  12.256000\n",
      "PDH       0.000000  10.931107\n",
      "\n",
      "[95 rows x 2 columns]\n"
     ]
    }
   ],
   "execution_count": 13
  },
  {
   "metadata": {
    "ExecuteTime": {
     "end_time": "2025-09-10T11:31:34.984405Z",
     "start_time": "2025-09-10T11:31:34.976141Z"
    }
   },
   "cell_type": "code",
   "source": [
    "# identify reactions with expression imposed maximum bounds whose feasible FVA maximum flux is smaller than the imposed upper bound\n",
    "\n",
    "restricted_reactions = []\n",
    "\n",
    "for reaction in model.reactions:\n",
    "    if reaction.id in expression_dict:\n",
    "        if reaction.id == \"FORt\":\n",
    "            continue\n",
    "     # only consider reactions where we imposed bounds from expression data\n",
    "    if reaction.id in expression_dict:\n",
    "        # the bound we set in Exercise 2\n",
    "        max_bound = reaction.upper_bound\n",
    "        max_fva = fva.loc[reaction.id, \"maximum\"]\n",
    "        # FVA finds a positive flux, but smaller than the imposed bound\n",
    "        if (max_fva > 0) and (max_fva < max_bound):\n",
    "            restricted_reactions.append(reaction.id)\n",
    "\n",
    "print(\"Number of reactions with max FVA flux < upper bound:\", len(restricted_reactions))\n",
    "print(\"List of these reactions:\", restricted_reactions)"
   ],
   "outputs": [
    {
     "name": "stdout",
     "output_type": "stream",
     "text": [
      "Number of reactions with max FVA flux < upper bound: 36\n",
      "List of these reactions: ['PFK', 'PGI', 'PGL', 'PIt2r', 'ACONTa', 'ACONTb', 'PPCK', 'ADK1', 'AKGDH', 'ATPS4r', 'PTAr', 'PYK', 'CO2t', 'RPE', 'CS', 'CYTBD', 'ENO', 'SUCDi', 'TALA', 'TKT1', 'TKT2', 'TPI', 'FBA', 'FUM', 'G6PDH2r', 'GAPD', 'GLCpts', 'GLUDy', 'GLUN', 'GLUSy', 'GND', 'ICDHyr', 'ICL', 'MALS', 'O2t', 'PDH']\n"
     ]
    }
   ],
   "execution_count": 14
  },
  {
   "metadata": {
    "ExecuteTime": {
     "end_time": "2025-09-10T11:31:35.000539Z",
     "start_time": "2025-09-10T11:31:34.994417Z"
    }
   },
   "cell_type": "code",
   "source": [
    "# number of reactions that have a positive minimal flux \n",
    "\n",
    "# if the minimum value in FVA is >0 this reaction always carry flux in forward direction\n",
    "positive_minimal_flux = fva[fva[\"minimum\"] > 0]\n",
    "\n",
    "print(\"Number of reactions with positive minimal flux:\", len(positive_minimal_flux))\n",
    "print(\"List of these reactions:\", list(positive_minimal_flux.index))"
   ],
   "outputs": [
    {
     "name": "stdout",
     "output_type": "stream",
     "text": [
      "Number of reactions with positive minimal flux: 16\n",
      "List of these reactions: ['PFK', 'ATPM', 'ATPS4r', 'PTAr', 'CS', 'CYTBD', 'ENO', 'TPI', 'EX_h_e', 'EX_h2o_e', 'FBA', 'GAPD', 'GLCpts', 'ICDHyr', 'NADH16', 'O2t']\n"
     ]
    }
   ],
   "execution_count": 15
  },
  {
   "metadata": {},
   "cell_type": "markdown",
   "source": "# Excercise 4"
  },
  {
   "metadata": {
    "ExecuteTime": {
     "end_time": "2025-09-10T11:53:30.711879Z",
     "start_time": "2025-09-10T11:53:30.703425Z"
    }
   },
   "cell_type": "code",
   "source": [
    "solution = model.optimize()\n",
    "print(\"Maximal biomass production rate:\", solution.objective_value)"
   ],
   "outputs": [
    {
     "name": "stdout",
     "output_type": "stream",
     "text": [
      "Maximal biomass production rate: 0.48470309797054517\n"
     ]
    }
   ],
   "execution_count": 18
  },
  {
   "metadata": {
    "ExecuteTime": {
     "end_time": "2025-09-10T11:58:38.271072Z",
     "start_time": "2025-09-10T11:58:38.263832Z"
    }
   },
   "cell_type": "code",
   "source": [
    "bottlenecks = []\n",
    "for reaction in model.reactions:\n",
    "    flux = solution.fluxes[reaction.id]\n",
    "    if abs(flux - reaction.upper_bound) < 1e-6 or abs(flux - reaction.lower_bound) < 1e-6:\n",
    "        bottlenecks.append((reaction.id, flux, reaction.lower_bound, reaction.upper_bound))\n",
    "\n",
    "print(\"Reactions that reached bottleneck:\")\n",
    "for bottleneck in bottlenecks:\n",
    "    print(bottleneck)"
   ],
   "outputs": [
    {
     "name": "stdout",
     "output_type": "stream",
     "text": [
      "Reactions that reached bottleneck:\n",
      "('PFL', np.float64(1.0), 0.0, 1.0)\n",
      "('ACALD', np.float64(-1.16), -1.16, 1.16)\n",
      "('ACKr', np.float64(-1.19), -1.19, 1.19)\n",
      "('ATPM', np.float64(8.39), 8.39, 1000.0)\n",
      "('PPCK', np.float64(0.0), 0.0, 25.23)\n",
      "('PPS', np.float64(0.0), 0.0, 2.5)\n",
      "('PYRt2', np.float64(-1.26), -1.26, 1.26)\n",
      "('SUCCt2_2', np.float64(0.0), 0.0, 2.36)\n",
      "('SUCCt3', np.float64(0.0), 0.0, 6.67)\n",
      "('THD2', np.float64(4.5), 0.0, 4.5)\n",
      "('EX_acald_e', np.float64(0.0), 0.0, 1000.0)\n",
      "('EX_akg_e', np.float64(0.0), 0.0, 1000.0)\n",
      "('EX_fru_e', np.float64(0.0), 0.0, 1000.0)\n",
      "('EX_fum_e', np.float64(0.0), 0.0, 1000.0)\n",
      "('EX_gln__L_e', np.float64(0.0), 0.0, 1000.0)\n",
      "('EX_glu__L_e', np.float64(0.0), 0.0, 1000.0)\n",
      "('EX_mal__L_e', np.float64(0.0), 0.0, 1000.0)\n",
      "('EX_succ_e', np.float64(0.0), 0.0, 1000.0)\n",
      "('FBP', np.float64(0.0), 0.0, 2.35)\n",
      "('FORt2', np.float64(0.0), 0.0, 1.28)\n",
      "('FRD7', np.float64(0.0), 0.0, 20.07)\n",
      "('FRUpts2', np.float64(0.0), 0.0, 10.08)\n",
      "('FUMt2_2', np.float64(0.0), 0.0, 2.45)\n",
      "('GLNabc', np.float64(0.0), 0.0, 0.25)\n",
      "('GLUN', np.float64(0.0), 0.0, 6.25)\n",
      "('GLUSy', np.float64(0.0), 0.0, 7.35)\n",
      "('ICL', np.float64(0.0), 0.0, 14.07)\n",
      "('LDH_D', np.float64(-2.07), -2.07, 2.07)\n",
      "('MALS', np.float64(0.0), 0.0, 9.12)\n",
      "('MALt2_2', np.float64(0.0), 0.0, 8.87)\n",
      "('ME1', np.float64(0.0), 0.0, 3.24)\n",
      "('ME2', np.float64(0.0), 0.0, 3.34)\n",
      "('NADH16', np.float64(20.26), 0.0, 20.26)\n",
      "('NADTRHD', np.float64(0.0), 0.0, 1.26)\n"
     ]
    }
   ],
   "execution_count": 22
  },
  {
   "metadata": {
    "ExecuteTime": {
     "end_time": "2025-09-10T11:58:48.970369Z",
     "start_time": "2025-09-10T11:58:48.963637Z"
    }
   },
   "cell_type": "code",
   "source": [
    "for reaction in model.reactions:\n",
    "    flux = solution.fluxes[reaction.id]\n",
    "    if abs(flux) < 1e-9 and reaction.upper_bound < 1000:\n",
    "        print(reaction.id, \"Flux:\", flux, \"Bounds:\", (reaction.lower_bound, reaction.upper_bound))"
   ],
   "outputs": [
    {
     "name": "stdout",
     "output_type": "stream",
     "text": [
      "AKGt2r Flux: 0.0 Bounds: (-3.1, 3.1)\n",
      "ACALDt Flux: 0.0 Bounds: (-2.29, 2.29)\n",
      "PPCK Flux: 0.0 Bounds: (0.0, 25.23)\n",
      "PPS Flux: 0.0 Bounds: (0.0, 2.5)\n",
      "ADK1 Flux: 0.0 Bounds: (-30.57, 30.57)\n",
      "SUCCt2_2 Flux: 0.0 Bounds: (0.0, 2.36)\n",
      "SUCCt3 Flux: 0.0 Bounds: (0.0, 6.67)\n",
      "FBP Flux: 0.0 Bounds: (0.0, 2.35)\n",
      "FORt2 Flux: 0.0 Bounds: (0.0, 1.28)\n",
      "FRD7 Flux: 0.0 Bounds: (0.0, 20.07)\n",
      "FRUpts2 Flux: 0.0 Bounds: (0.0, 10.08)\n",
      "FUMt2_2 Flux: 0.0 Bounds: (0.0, 2.45)\n",
      "GLNabc Flux: 0.0 Bounds: (0.0, 0.25)\n",
      "GLUN Flux: 0.0 Bounds: (0.0, 6.25)\n",
      "GLUSy Flux: 0.0 Bounds: (0.0, 7.35)\n",
      "GLUt2r Flux: 0.0 Bounds: (-4.12, 4.12)\n",
      "ICL Flux: 0.0 Bounds: (0.0, 14.07)\n",
      "MALS Flux: 0.0 Bounds: (0.0, 9.12)\n",
      "MALt2_2 Flux: 0.0 Bounds: (0.0, 8.87)\n",
      "ME1 Flux: 0.0 Bounds: (0.0, 3.24)\n",
      "ME2 Flux: 0.0 Bounds: (0.0, 3.34)\n",
      "NADTRHD Flux: 0.0 Bounds: (0.0, 1.26)\n"
     ]
    }
   ],
   "execution_count": 23
  },
  {
   "metadata": {},
   "cell_type": "markdown",
   "source": "Answer for 4c: The reaction AKGt2r, bounds: –3.1 to 3.1, carries no flux in the optimal biomass solution. This is because it is not part of the biomass-maximizing pathway under the given constraints. Instead, the network routes flux through AKGHD. Thus, although AKGt2r could carry flux, the system achieves maximal biomass without utilizing it.",
   "attachments": {
    "f25d827f-c47b-49ac-ad98-f2fa65a21f3d.png": {
     "image/png": "[encoded data removed]"
    }
   }
  }
 ],
 "metadata": {
  "kernelspec": {
   "display_name": "base",
   "language": "python",
   "name": "python3"
  },
  "language_info": {
   "codemirror_mode": {
    "name": "ipython",
    "version": 3
   },
   "file_extension": ".py",
   "mimetype": "text/x-python",
   "name": "python",
   "nbconvert_exporter": "python",
   "pygments_lexer": "ipython3",
   "version": "3.12.7"
  },
  "orig_nbformat": 4
 },
 "nbformat": 4,
 "nbformat_minor": 2
}
