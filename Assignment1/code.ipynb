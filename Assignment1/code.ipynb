{
 "cells": [
  {
   "cell_type": "code",
   "execution_count": 61,
   "metadata": {},
   "outputs": [],
   "source": [
    "import cobra\n",
    "import numpy as np\n",
    "import matplotlib.pyplot as plt\n",
    "import pandas as pd\n",
    "\n",
    "expression_data = pd.read_csv('e_coli_core_expression.csv', index_col=0)\n",
    "expression_data.sort_values(by=' reaction activity [mmol/gDW/h] ', ascending=False, inplace=True)\n",
    "# expression_data"
   ]
  },
  {
   "cell_type": "code",
   "execution_count": 62,
   "metadata": {},
   "outputs": [],
   "source": [
    "model = cobra.io.load_json_model('e_coli_core.json')\n",
    "# model"
   ]
  },
  {
   "cell_type": "markdown",
   "metadata": {},
   "source": [
    "Observations:\n",
    "1. There are 95 reactions but only 73 have data!"
   ]
  },
  {
   "cell_type": "markdown",
   "metadata": {},
   "source": [
    "# Excercise 1"
   ]
  },
  {
   "cell_type": "markdown",
   "metadata": {},
   "source": [
    "No code required so answer is in the README.md"
   ]
  },
  {
   "cell_type": "markdown",
   "metadata": {},
   "source": [
    "# Excercise 2"
   ]
  },
  {
   "cell_type": "code",
   "execution_count": 63,
   "metadata": {},
   "outputs": [
    {
     "name": "stdout",
     "output_type": "stream",
     "text": [
      "Number of reactions in the model: 95\n",
      "Number of reactions with expression data: 73\n",
      "Number of reactions without expression data: 22\n",
      "Reactions with expression data: {'ME1', 'AKGDH', 'ALCD2x', 'GLNS', 'PFK', 'MALS', 'G6PDH2r', 'THD2', 'CO2t', 'ACONTb', 'GND', 'ENO', 'GLUSy', 'ACALDt', 'FORt2', 'RPE', 'CYTBD', 'ADK1', 'PPC', 'NADTRHD', 'GLUDy', 'ACONTa', 'FUM', 'GLNabc', 'CS', 'PFL', 'PGI', 'TALA', 'ACKr', 'D_LACt2', 'PPS', 'FORt', 'FRUpts2', 'H2Ot', 'TKT1', 'ETOHt2r', 'GLUt2r', 'FBP', 'ATPS4r', 'GLCpts', 'RPI', 'PIt2r', 'NH4t', 'PYRt2', 'MDH', 'SUCCt2_2', 'PGM', 'SUCDi', 'LDH_D', 'TPI', 'O2t', 'PTAr', 'ICDHyr', 'GAPD', 'FRD7', 'SUCCt3', 'PGK', 'PGL', 'PDH', 'FBA', 'ACt2r', 'ME2', 'PPCK', 'PYK', 'GLUN', 'AKGt2r', 'FUMt2_2', 'MALt2_2', 'ACALD', 'SUCOAS', 'ICL', 'TKT2', 'NADH16'}\n",
      "Reactions in the model but not in expression data: {'EX_succ_e', 'EX_h_e', 'EX_glc__D_e', 'ATPM', 'EX_akg_e', 'EX_pyr_e', 'EX_co2_e', 'EX_glu__L_e', 'EX_pi_e', 'EX_fum_e', 'EX_fru_e', 'EX_ac_e', 'EX_o2_e', 'EX_acald_e', 'EX_nh4_e', 'BIOMASS_Ecoli_core_w_GAM', 'EX_for_e', 'EX_etoh_e', 'EX_gln__L_e', 'EX_lac__D_e', 'EX_mal__L_e', 'EX_h2o_e'}\n"
     ]
    }
   ],
   "source": [
    "reactionsWithData = set(expression_data.index) # List of reactions with expression data from csv\n",
    "reactionsInModel = set([rxn.id for rxn in model.reactions]) # List of reactions in the model\n",
    "reactionsWithoutData = reactionsInModel - reactionsWithData # Set difference to find reactions without data\n",
    "print(f\"Number of reactions in the model: {len(reactionsInModel)}\")\n",
    "print(f\"Number of reactions with expression data: {len(reactionsWithData)}\")\n",
    "print(f\"Number of reactions without expression data: {len(reactionsWithoutData)}\")\n",
    "print(f\"Reactions with expression data: {reactionsWithData}\")\n",
    "print(f\"Reactions in the model but not in expression data: {reactionsWithoutData}\")"
   ]
  },
  {
   "cell_type": "code",
   "execution_count": 65,
   "metadata": {},
   "outputs": [
    {
     "data": {
      "text/plain": [
       "(39, 34)"
      ]
     },
     "execution_count": 65,
     "metadata": {},
     "output_type": "execute_result"
    }
   ],
   "source": [
    "# Create a dictionary to map reaction IDs to their expression values\n",
    "expression_dict = expression_data[' reaction activity [mmol/gDW/h] '].to_dict()\n",
    "\n",
    "# reversible & irreversible reactions among the reactions with data\n",
    "reversible_reactions = [rxn for rxn in model.reactions if rxn.id in expression_dict and rxn.reversibility]\n",
    "irreversible_reactions = [rxn for rxn in model.reactions if rxn.id in expression_dict and not rxn.reversibility]\n",
    "len(reversible_reactions), len(irreversible_reactions)\n",
    "\n",
    "# NOTICE THAT GLUCOSE EXCHANGE & ATPM ARE NOT IN THE EXPRESSION DATA!!! Also the lengths of lists match the expected values :D"
   ]
  },
  {
   "cell_type": "code",
   "execution_count": 67,
   "metadata": {},
   "outputs": [],
   "source": [
    "# 1. For reversible reactions with expression data, set lower and upper bounds to -value and +value usinf expression_dict!\n",
    "for rxn in reversible_reactions:\n",
    "    value = expression_dict[rxn.id]\n",
    "    rxn.lower_bound = -value\n",
    "    rxn.upper_bound = value\n",
    "    \n",
    "\n",
    "# 2. For irreversible reactions with expression data, set lower and upper bounds to 0 and value or -value and 0 depending on the original bounds\n",
    "# (THIS IS TRICKY BECAUSE THE DIRECTIONS ARE NOT CONSISTENT)\n",
    "for rxn in irreversible_reactions:\n",
    "    value = expression_dict[rxn.id]\n",
    "    if rxn.upper_bound > 0: \n",
    "        rxn.upper_bound = value\n",
    "    elif rxn.lower_bound < 0: \n",
    "        rxn.lower_bound = -value\n",
    "        \n",
    "# 3. For reactions without data, leave bounds as is. No change required since its in the NO DATA REACTIONS list\n",
    "\n",
    "# 4. For glucose exchange reaction, set bounds to -1000 and 1000\n",
    "glucose_exchange = model.reactions.get_by_id('EX_glc__D_e')\n",
    "glucose_exchange.lower_bound = -1000\n",
    "glucose_exchange.upper_bound = 1000\n",
    "\n",
    "# 5. For ATPM reaction, leave bounds as is. No change required since its in the NO DATA REACTIONS list"
   ]
  },
  {
   "cell_type": "code",
   "execution_count": 73,
   "metadata": {},
   "outputs": [
    {
     "name": "stdout",
     "output_type": "stream",
     "text": [
      "PFK: Lower Bound = 0.0, Upper Bound = 12.12\n",
      "PFL: Lower Bound = 0.0, Upper Bound = 1.0\n",
      "PGI: Lower Bound = -13.12, Upper Bound = 13.12\n",
      "PGK: Lower Bound = -23.13, Upper Bound = 23.13\n",
      "PGL: Lower Bound = 0.0, Upper Bound = 8.12\n",
      "ACALD: Lower Bound = -1.16, Upper Bound = 1.16\n",
      "AKGt2r: Lower Bound = -3.1, Upper Bound = 3.1\n",
      "PGM: Lower Bound = -20.01, Upper Bound = 20.01\n",
      "PIt2r: Lower Bound = -6.03, Upper Bound = 6.03\n",
      "ALCD2x: Lower Bound = -9.01, Upper Bound = 9.01\n",
      "ACALDt: Lower Bound = -2.29, Upper Bound = 2.29\n",
      "ACKr: Lower Bound = -1.19, Upper Bound = 1.19\n",
      "PPC: Lower Bound = 0.0, Upper Bound = 2.56\n",
      "ACONTa: Lower Bound = -25.35, Upper Bound = 25.35\n",
      "ACONTb: Lower Bound = -25.35, Upper Bound = 25.35\n",
      "ATPM: Lower Bound = 8.39, Upper Bound = 1000.0\n",
      "PPCK: Lower Bound = 0.0, Upper Bound = 25.23\n",
      "ACt2r: Lower Bound = -3.23, Upper Bound = 3.23\n",
      "PPS: Lower Bound = 0.0, Upper Bound = 2.5\n",
      "ADK1: Lower Bound = -30.57, Upper Bound = 30.57\n",
      "AKGDH: Lower Bound = 0.0, Upper Bound = 24.35\n",
      "ATPS4r: Lower Bound = -60.5, Upper Bound = 60.5\n",
      "PTAr: Lower Bound = -4.47, Upper Bound = 4.47\n",
      "PYK: Lower Bound = 0.0, Upper Bound = 26.78\n",
      "BIOMASS_Ecoli_core_w_GAM: Lower Bound = 0.0, Upper Bound = 1000.0\n",
      "PYRt2: Lower Bound = -1.26, Upper Bound = 1.26\n",
      "CO2t: Lower Bound = -30.45, Upper Bound = 30.45\n",
      "RPE: Lower Bound = -5.67, Upper Bound = 5.67\n",
      "CS: Lower Bound = 0.0, Upper Bound = 20.56\n",
      "RPI: Lower Bound = -5.56, Upper Bound = 5.56\n",
      "SUCCt2_2: Lower Bound = 0.0, Upper Bound = 2.36\n",
      "CYTBD: Lower Bound = 0.0, Upper Bound = 40.56\n",
      "D_LACt2: Lower Bound = -4.56, Upper Bound = 4.56\n",
      "ENO: Lower Bound = -28.78, Upper Bound = 28.78\n",
      "SUCCt3: Lower Bound = 0.0, Upper Bound = 6.67\n",
      "ETOHt2r: Lower Bound = -2.34, Upper Bound = 2.34\n",
      "SUCDi: Lower Bound = 0.0, Upper Bound = 24.34\n",
      "SUCOAS: Lower Bound = -20.6, Upper Bound = 20.6\n",
      "TALA: Lower Bound = -4.45, Upper Bound = 4.45\n",
      "THD2: Lower Bound = 0.0, Upper Bound = 4.5\n",
      "TKT1: Lower Bound = -3.34, Upper Bound = 3.34\n",
      "TKT2: Lower Bound = -3.34, Upper Bound = 3.34\n",
      "TPI: Lower Bound = -45.56, Upper Bound = 45.56\n",
      "EX_ac_e: Lower Bound = 0.0, Upper Bound = 1000.0\n",
      "EX_acald_e: Lower Bound = 0.0, Upper Bound = 1000.0\n",
      "EX_akg_e: Lower Bound = 0.0, Upper Bound = 1000.0\n",
      "EX_co2_e: Lower Bound = -1000.0, Upper Bound = 1000.0\n",
      "EX_etoh_e: Lower Bound = 0.0, Upper Bound = 1000.0\n",
      "EX_for_e: Lower Bound = 0.0, Upper Bound = 1000.0\n",
      "EX_fru_e: Lower Bound = 0.0, Upper Bound = 1000.0\n",
      "EX_fum_e: Lower Bound = 0.0, Upper Bound = 1000.0\n",
      "EX_glc__D_e: Lower Bound = -1000, Upper Bound = 1000\n",
      "EX_gln__L_e: Lower Bound = 0.0, Upper Bound = 1000.0\n",
      "EX_glu__L_e: Lower Bound = 0.0, Upper Bound = 1000.0\n",
      "EX_h_e: Lower Bound = -1000.0, Upper Bound = 1000.0\n",
      "EX_h2o_e: Lower Bound = -1000.0, Upper Bound = 1000.0\n",
      "EX_lac__D_e: Lower Bound = 0.0, Upper Bound = 1000.0\n",
      "EX_mal__L_e: Lower Bound = 0.0, Upper Bound = 1000.0\n",
      "EX_nh4_e: Lower Bound = -1000.0, Upper Bound = 1000.0\n",
      "EX_o2_e: Lower Bound = -1000.0, Upper Bound = 1000.0\n",
      "EX_pi_e: Lower Bound = -1000.0, Upper Bound = 1000.0\n",
      "EX_pyr_e: Lower Bound = 0.0, Upper Bound = 1000.0\n",
      "EX_succ_e: Lower Bound = 0.0, Upper Bound = 1000.0\n",
      "FBA: Lower Bound = -24.45, Upper Bound = 24.45\n",
      "FBP: Lower Bound = 0.0, Upper Bound = 2.35\n",
      "FORt2: Lower Bound = 0.0, Upper Bound = 1.28\n",
      "FORt: Lower Bound = -2.34, Upper Bound = 0.0\n",
      "FRD7: Lower Bound = 0.0, Upper Bound = 20.07\n",
      "FRUpts2: Lower Bound = 0.0, Upper Bound = 10.08\n",
      "FUM: Lower Bound = -24.35, Upper Bound = 24.35\n",
      "FUMt2_2: Lower Bound = 0.0, Upper Bound = 2.45\n",
      "G6PDH2r: Lower Bound = -5.68, Upper Bound = 5.68\n",
      "GAPD: Lower Bound = -26.13, Upper Bound = 26.13\n",
      "GLCpts: Lower Bound = 0.0, Upper Bound = 16.34\n",
      "GLNS: Lower Bound = 0.0, Upper Bound = 3.45\n",
      "GLNabc: Lower Bound = 0.0, Upper Bound = 0.25\n",
      "GLUDy: Lower Bound = -7.35, Upper Bound = 7.35\n",
      "GLUN: Lower Bound = 0.0, Upper Bound = 6.25\n",
      "GLUSy: Lower Bound = 0.0, Upper Bound = 7.35\n",
      "GLUt2r: Lower Bound = -4.12, Upper Bound = 4.12\n",
      "GND: Lower Bound = 0.0, Upper Bound = 6.72\n",
      "H2Ot: Lower Bound = -20.06, Upper Bound = 20.06\n",
      "ICDHyr: Lower Bound = -15.06, Upper Bound = 15.06\n",
      "ICL: Lower Bound = 0.0, Upper Bound = 14.07\n",
      "LDH_D: Lower Bound = -2.07, Upper Bound = 2.07\n",
      "MALS: Lower Bound = 0.0, Upper Bound = 9.12\n",
      "MALt2_2: Lower Bound = 0.0, Upper Bound = 8.87\n",
      "MDH: Lower Bound = -4.26, Upper Bound = 4.26\n",
      "ME1: Lower Bound = 0.0, Upper Bound = 3.24\n",
      "ME2: Lower Bound = 0.0, Upper Bound = 3.34\n",
      "NADH16: Lower Bound = 0.0, Upper Bound = 20.26\n",
      "NADTRHD: Lower Bound = 0.0, Upper Bound = 1.26\n",
      "NH4t: Lower Bound = -3.45, Upper Bound = 3.45\n",
      "O2t: Lower Bound = -40.67, Upper Bound = 40.67\n",
      "PDH: Lower Bound = 0.0, Upper Bound = 32.32\n"
     ]
    }
   ],
   "source": [
    "# print a table listing each reaction’s lower and upper flux bound after implementing the above\n",
    "for rxn in model.reactions:\n",
    "    print(f\"{rxn.id}: Lower Bound = {rxn.lower_bound}, Upper Bound = {rxn.upper_bound}\")"
   ]
  },
  {
   "cell_type": "markdown",
   "metadata": {},
   "source": [
    "# Excercise 3"
   ]
  },
  {
   "cell_type": "code",
   "execution_count": null,
   "metadata": {},
   "outputs": [],
   "source": []
  },
  {
   "cell_type": "code",
   "execution_count": null,
   "metadata": {},
   "outputs": [],
   "source": []
  },
  {
   "cell_type": "code",
   "execution_count": null,
   "metadata": {},
   "outputs": [],
   "source": []
  },
  {
   "cell_type": "markdown",
   "metadata": {},
   "source": [
    "# Excercise 4"
   ]
  },
  {
   "cell_type": "markdown",
   "metadata": {},
   "source": []
  },
  {
   "cell_type": "code",
   "execution_count": null,
   "metadata": {},
   "outputs": [],
   "source": []
  },
  {
   "cell_type": "code",
   "execution_count": null,
   "metadata": {},
   "outputs": [],
   "source": []
  }
 ],
 "metadata": {
  "kernelspec": {
   "display_name": "Python 3",
   "language": "python",
   "name": "python3"
  },
  "language_info": {
   "codemirror_mode": {
    "name": "ipython",
    "version": 3
   },
   "file_extension": ".py",
   "mimetype": "text/x-python",
   "name": "python",
   "nbconvert_exporter": "python",
   "pygments_lexer": "ipython3",
   "version": "3.12.3"
  },
  "orig_nbformat": 4
 },
 "nbformat": 4,
 "nbformat_minor": 2
}
