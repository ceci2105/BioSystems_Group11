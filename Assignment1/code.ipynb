{
 "cells": [
  {
   "cell_type": "code",
   "execution_count": 7,
   "metadata": {},
   "outputs": [],
   "source": [
    "import cobra\n",
    "import numpy as np\n",
    "import matplotlib.pyplot as plt\n",
    "import pandas as pd\n",
    "from cobra.flux_analysis import variability\n",
    "\n",
    "expression_data = pd.read_csv('e_coli_core_expression.csv', index_col=0)\n",
    "expression_data.sort_values(by=' reaction activity [mmol/gDW/h] ', ascending=False, inplace=True)\n",
    "# expression_data"
   ]
  },
  {
   "cell_type": "code",
   "execution_count": 8,
   "metadata": {},
   "outputs": [],
   "source": [
    "model = cobra.io.load_json_model('e_coli_core.json')\n",
    "# model"
   ]
  },
  {
   "cell_type": "markdown",
   "metadata": {},
   "source": [
    "Observations:\n",
    "1. There are 95 reactions but only 73 have data!"
   ]
  },
  {
   "cell_type": "markdown",
   "metadata": {},
   "source": [
    "# Excercise 1"
   ]
  },
  {
   "cell_type": "markdown",
   "metadata": {},
   "source": [
    "No code required so answer is in the README.md"
   ]
  },
  {
   "cell_type": "markdown",
   "metadata": {},
   "source": [
    "# Excercise 2"
   ]
  },
  {
   "cell_type": "code",
   "execution_count": 9,
   "metadata": {},
   "outputs": [
    {
     "name": "stdout",
     "output_type": "stream",
     "text": [
      "Number of reactions in the model: 95\n",
      "Number of reactions with expression data: 73\n",
      "Number of reactions without expression data: 22\n",
      "Reactions with expression data: {'SUCDi', 'GND', 'PGI', 'MALt2_2', 'SUCCt2_2', 'SUCOAS', 'LDH_D', 'RPE', 'ICL', 'ALCD2x', 'PGL', 'ATPS4r', 'ACONTa', 'GAPD', 'FBP', 'PFL', 'PGM', 'AKGt2r', 'FUM', 'CO2t', 'PPCK', 'PGK', 'ICDHyr', 'PTAr', 'TKT1', 'PIt2r', 'ACt2r', 'PYRt2', 'NH4t', 'PFK', 'GLUN', 'G6PDH2r', 'GLUt2r', 'GLUDy', 'PDH', 'O2t', 'ENO', 'MDH', 'FBA', 'GLUSy', 'FORt2', 'PYK', 'H2Ot', 'GLNS', 'FUMt2_2', 'NADH16', 'TPI', 'ME1', 'THD2', 'CYTBD', 'ACALDt', 'FORt', 'ADK1', 'RPI', 'MALS', 'GLNabc', 'FRUpts2', 'ETOHt2r', 'NADTRHD', 'ACONTb', 'CS', 'TKT2', 'GLCpts', 'ACKr', 'PPS', 'D_LACt2', 'AKGDH', 'TALA', 'ME2', 'PPC', 'FRD7', 'ACALD', 'SUCCt3'}\n",
      "Reactions in the model but not in expression data: {'EX_glu__L_e', 'EX_fum_e', 'EX_acald_e', 'EX_akg_e', 'EX_ac_e', 'EX_h_e', 'EX_succ_e', 'BIOMASS_Ecoli_core_w_GAM', 'EX_gln__L_e', 'EX_h2o_e', 'EX_pi_e', 'EX_fru_e', 'EX_glc__D_e', 'EX_for_e', 'EX_pyr_e', 'ATPM', 'EX_nh4_e', 'EX_co2_e', 'EX_lac__D_e', 'EX_o2_e', 'EX_etoh_e', 'EX_mal__L_e'}\n"
     ]
    }
   ],
   "source": [
    "reactionsWithData = set(expression_data.index) # List of reactions with expression data from csv\n",
    "reactionsInModel = set([rxn.id for rxn in model.reactions]) # List of reactions in the model\n",
    "reactionsWithoutData = reactionsInModel - reactionsWithData # Set difference to find reactions without data\n",
    "print(f\"Number of reactions in the model: {len(reactionsInModel)}\")\n",
    "print(f\"Number of reactions with expression data: {len(reactionsWithData)}\")\n",
    "print(f\"Number of reactions without expression data: {len(reactionsWithoutData)}\")\n",
    "print(f\"Reactions with expression data: {reactionsWithData}\")\n",
    "print(f\"Reactions in the model but not in expression data: {reactionsWithoutData}\")"
   ]
  },
  {
   "cell_type": "code",
   "execution_count": 10,
   "metadata": {},
   "outputs": [
    {
     "data": {
      "text/plain": [
       "(39, 34)"
      ]
     },
     "execution_count": 10,
     "metadata": {},
     "output_type": "execute_result"
    }
   ],
   "source": [
    "# Create a dictionary to map reaction IDs to their expression values\n",
    "expression_dict = expression_data[' reaction activity [mmol/gDW/h] '].to_dict()\n",
    "\n",
    "# reversible & irreversible reactions among the reactions with data\n",
    "reversible_reactions = [rxn for rxn in model.reactions if rxn.id in expression_dict and rxn.reversibility]\n",
    "irreversible_reactions = [rxn for rxn in model.reactions if rxn.id in expression_dict and not rxn.reversibility]\n",
    "len(reversible_reactions), len(irreversible_reactions)\n",
    "\n",
    "# NOTICE THAT GLUCOSE EXCHANGE & ATPM ARE NOT IN THE EXPRESSION DATA!!! Also the lengths of lists match the expected values :D"
   ]
  },
  {
   "cell_type": "code",
   "execution_count": 12,
   "metadata": {},
   "outputs": [],
   "source": [
    "# 1. For reversible reactions with expression data, set lower and upper bounds to -value and +value usinf expression_dict!\n",
    "for rxn in reversible_reactions:\n",
    "    value = expression_dict[rxn.id]\n",
    "    rxn.lower_bound = -value\n",
    "    rxn.upper_bound = value\n",
    "    \n",
    "\n",
    "# 2. For irreversible reactions with expression data, set lower and upper bounds to 0 and value or -value and 0 depending on the original bounds\n",
    "# (THIS IS TRICKY BECAUSE THE DIRECTIONS ARE NOT CONSISTENT)\n",
    "for rxn in irreversible_reactions:\n",
    "    value = expression_dict[rxn.id]\n",
    "    if rxn.upper_bound > 0: \n",
    "        rxn.upper_bound = value\n",
    "    elif rxn.lower_bound < 0: \n",
    "        rxn.lower_bound = -value\n",
    "        \n",
    "# 3. For reactions without data, leave bounds as is. No change required since its in the NO DATA REACTIONS list\n",
    "\n",
    "# 4. For glucose exchange reaction, set bounds to -1000 and 1000\n",
    "glucose_exchange = model.reactions.get_by_id('EX_glc__D_e')\n",
    "glucose_exchange.lower_bound = -1000\n",
    "glucose_exchange.upper_bound = 1000\n",
    "\n",
    "# 5. For ATPM reaction, leave bounds as is. No change required since its in the NO DATA REACTIONS list"
   ]
  },
  {
   "cell_type": "code",
   "execution_count": 13,
   "metadata": {},
   "outputs": [
    {
     "name": "stdout",
     "output_type": "stream",
     "text": [
      "PFK: Lower Bound = 0.0, Upper Bound = 12.12\n",
      "PFL: Lower Bound = 0.0, Upper Bound = 1.0\n",
      "PGI: Lower Bound = -13.12, Upper Bound = 13.12\n",
      "PGK: Lower Bound = -23.13, Upper Bound = 23.13\n",
      "PGL: Lower Bound = 0.0, Upper Bound = 8.12\n",
      "ACALD: Lower Bound = -1.16, Upper Bound = 1.16\n",
      "AKGt2r: Lower Bound = -3.1, Upper Bound = 3.1\n",
      "PGM: Lower Bound = -20.01, Upper Bound = 20.01\n",
      "PIt2r: Lower Bound = -6.03, Upper Bound = 6.03\n",
      "ALCD2x: Lower Bound = -9.01, Upper Bound = 9.01\n",
      "ACALDt: Lower Bound = -2.29, Upper Bound = 2.29\n",
      "ACKr: Lower Bound = -1.19, Upper Bound = 1.19\n",
      "PPC: Lower Bound = 0.0, Upper Bound = 2.56\n",
      "ACONTa: Lower Bound = -25.35, Upper Bound = 25.35\n",
      "ACONTb: Lower Bound = -25.35, Upper Bound = 25.35\n",
      "ATPM: Lower Bound = 8.39, Upper Bound = 1000.0\n",
      "PPCK: Lower Bound = 0.0, Upper Bound = 25.23\n",
      "ACt2r: Lower Bound = -3.23, Upper Bound = 3.23\n",
      "PPS: Lower Bound = 0.0, Upper Bound = 2.5\n",
      "ADK1: Lower Bound = -30.57, Upper Bound = 30.57\n",
      "AKGDH: Lower Bound = 0.0, Upper Bound = 24.35\n",
      "ATPS4r: Lower Bound = -60.5, Upper Bound = 60.5\n",
      "PTAr: Lower Bound = -4.47, Upper Bound = 4.47\n",
      "PYK: Lower Bound = 0.0, Upper Bound = 26.78\n",
      "BIOMASS_Ecoli_core_w_GAM: Lower Bound = 0.0, Upper Bound = 1000.0\n",
      "PYRt2: Lower Bound = -1.26, Upper Bound = 1.26\n",
      "CO2t: Lower Bound = -30.45, Upper Bound = 30.45\n",
      "RPE: Lower Bound = -5.67, Upper Bound = 5.67\n",
      "CS: Lower Bound = 0.0, Upper Bound = 20.56\n",
      "RPI: Lower Bound = -5.56, Upper Bound = 5.56\n",
      "SUCCt2_2: Lower Bound = 0.0, Upper Bound = 2.36\n",
      "CYTBD: Lower Bound = 0.0, Upper Bound = 40.56\n",
      "D_LACt2: Lower Bound = -4.56, Upper Bound = 4.56\n",
      "ENO: Lower Bound = -28.78, Upper Bound = 28.78\n",
      "SUCCt3: Lower Bound = 0.0, Upper Bound = 6.67\n",
      "ETOHt2r: Lower Bound = -2.34, Upper Bound = 2.34\n",
      "SUCDi: Lower Bound = 0.0, Upper Bound = 24.34\n",
      "SUCOAS: Lower Bound = -20.6, Upper Bound = 20.6\n",
      "TALA: Lower Bound = -4.45, Upper Bound = 4.45\n",
      "THD2: Lower Bound = 0.0, Upper Bound = 4.5\n",
      "TKT1: Lower Bound = -3.34, Upper Bound = 3.34\n",
      "TKT2: Lower Bound = -3.34, Upper Bound = 3.34\n",
      "TPI: Lower Bound = -45.56, Upper Bound = 45.56\n",
      "EX_ac_e: Lower Bound = 0.0, Upper Bound = 1000.0\n",
      "EX_acald_e: Lower Bound = 0.0, Upper Bound = 1000.0\n",
      "EX_akg_e: Lower Bound = 0.0, Upper Bound = 1000.0\n",
      "EX_co2_e: Lower Bound = -1000.0, Upper Bound = 1000.0\n",
      "EX_etoh_e: Lower Bound = 0.0, Upper Bound = 1000.0\n",
      "EX_for_e: Lower Bound = 0.0, Upper Bound = 1000.0\n",
      "EX_fru_e: Lower Bound = 0.0, Upper Bound = 1000.0\n",
      "EX_fum_e: Lower Bound = 0.0, Upper Bound = 1000.0\n",
      "EX_glc__D_e: Lower Bound = -1000, Upper Bound = 1000\n",
      "EX_gln__L_e: Lower Bound = 0.0, Upper Bound = 1000.0\n",
      "EX_glu__L_e: Lower Bound = 0.0, Upper Bound = 1000.0\n",
      "EX_h_e: Lower Bound = -1000.0, Upper Bound = 1000.0\n",
      "EX_h2o_e: Lower Bound = -1000.0, Upper Bound = 1000.0\n",
      "EX_lac__D_e: Lower Bound = 0.0, Upper Bound = 1000.0\n",
      "EX_mal__L_e: Lower Bound = 0.0, Upper Bound = 1000.0\n",
      "EX_nh4_e: Lower Bound = -1000.0, Upper Bound = 1000.0\n",
      "EX_o2_e: Lower Bound = -1000.0, Upper Bound = 1000.0\n",
      "EX_pi_e: Lower Bound = -1000.0, Upper Bound = 1000.0\n",
      "EX_pyr_e: Lower Bound = 0.0, Upper Bound = 1000.0\n",
      "EX_succ_e: Lower Bound = 0.0, Upper Bound = 1000.0\n",
      "FBA: Lower Bound = -24.45, Upper Bound = 24.45\n",
      "FBP: Lower Bound = 0.0, Upper Bound = 2.35\n",
      "FORt2: Lower Bound = 0.0, Upper Bound = 1.28\n",
      "FORt: Lower Bound = -2.34, Upper Bound = 0.0\n",
      "FRD7: Lower Bound = 0.0, Upper Bound = 20.07\n",
      "FRUpts2: Lower Bound = 0.0, Upper Bound = 10.08\n",
      "FUM: Lower Bound = -24.35, Upper Bound = 24.35\n",
      "FUMt2_2: Lower Bound = 0.0, Upper Bound = 2.45\n",
      "G6PDH2r: Lower Bound = -5.68, Upper Bound = 5.68\n",
      "GAPD: Lower Bound = -26.13, Upper Bound = 26.13\n",
      "GLCpts: Lower Bound = 0.0, Upper Bound = 16.34\n",
      "GLNS: Lower Bound = 0.0, Upper Bound = 3.45\n",
      "GLNabc: Lower Bound = 0.0, Upper Bound = 0.25\n",
      "GLUDy: Lower Bound = -7.35, Upper Bound = 7.35\n",
      "GLUN: Lower Bound = 0.0, Upper Bound = 6.25\n",
      "GLUSy: Lower Bound = 0.0, Upper Bound = 7.35\n",
      "GLUt2r: Lower Bound = -4.12, Upper Bound = 4.12\n",
      "GND: Lower Bound = 0.0, Upper Bound = 6.72\n",
      "H2Ot: Lower Bound = -20.06, Upper Bound = 20.06\n",
      "ICDHyr: Lower Bound = -15.06, Upper Bound = 15.06\n",
      "ICL: Lower Bound = 0.0, Upper Bound = 14.07\n",
      "LDH_D: Lower Bound = -2.07, Upper Bound = 2.07\n",
      "MALS: Lower Bound = 0.0, Upper Bound = 9.12\n",
      "MALt2_2: Lower Bound = 0.0, Upper Bound = 8.87\n",
      "MDH: Lower Bound = -4.26, Upper Bound = 4.26\n",
      "ME1: Lower Bound = 0.0, Upper Bound = 3.24\n",
      "ME2: Lower Bound = 0.0, Upper Bound = 3.34\n",
      "NADH16: Lower Bound = 0.0, Upper Bound = 20.26\n",
      "NADTRHD: Lower Bound = 0.0, Upper Bound = 1.26\n",
      "NH4t: Lower Bound = -3.45, Upper Bound = 3.45\n",
      "O2t: Lower Bound = -40.67, Upper Bound = 40.67\n",
      "PDH: Lower Bound = 0.0, Upper Bound = 32.32\n"
     ]
    }
   ],
   "source": [
    "# print a table listing each reaction’s lower and upper flux bound after implementing the above\n",
    "for rxn in model.reactions:\n",
    "    print(f\"{rxn.id}: Lower Bound = {rxn.lower_bound}, Upper Bound = {rxn.upper_bound}\")"
   ]
  },
  {
   "cell_type": "markdown",
   "metadata": {},
   "source": [
    "# Excercise 3"
   ]
  },
  {
   "cell_type": "code",
   "execution_count": 22,
   "metadata": {},
   "outputs": [
    {
     "name": "stdout",
     "output_type": "stream",
     "text": [
      "FVA minimal and maximal fluxes\n",
      "           minimum    maximum\n",
      "PFK       0.334677  11.153556\n",
      "PFL       0.000000   1.000000\n",
      "PGI      -0.085323   9.020351\n",
      "PGK     -17.596002  -0.879355\n",
      "PGL       0.000000   4.522388\n",
      "...            ...        ...\n",
      "NADH16    1.831111  20.260000\n",
      "NADTRHD   0.000000   1.260000\n",
      "NH4t      0.000000   3.450000\n",
      "O2t       0.500000  12.256000\n",
      "PDH       0.000000  10.931107\n",
      "\n",
      "[95 rows x 2 columns]\n"
     ]
    }
   ],
   "source": [
    "# compute FVA for all reactions \n",
    "\n",
    "fva = variability.flux_variability_analysis(\n",
    "    model=model,\n",
    "    reaction_list=model.reactions,\n",
    "    loopless=False,\n",
    "    fraction_of_optimum=0.0 # we do not impose any minimum growth level\n",
    ")\n",
    "\n",
    "# print a table with the reaction id and the corresponding min and max flux\n",
    "print (\"FVA minimal and maximal fluxes\")\n",
    "print(fva)"
   ]
  },
  {
   "cell_type": "code",
   "execution_count": 20,
   "metadata": {},
   "outputs": [
    {
     "name": "stdout",
     "output_type": "stream",
     "text": [
      "Number of reactions with max FVA flux < upper bound: 36\n",
      "List of these reactions: ['PFK', 'PGI', 'PGL', 'PIt2r', 'ACONTa', 'ACONTb', 'PPCK', 'ADK1', 'AKGDH', 'ATPS4r', 'PTAr', 'PYK', 'CO2t', 'RPE', 'CS', 'CYTBD', 'ENO', 'SUCDi', 'TALA', 'TKT1', 'TKT2', 'TPI', 'FBA', 'FUM', 'G6PDH2r', 'GAPD', 'GLCpts', 'GLUDy', 'GLUN', 'GLUSy', 'GND', 'ICDHyr', 'ICL', 'MALS', 'O2t', 'PDH']\n"
     ]
    }
   ],
   "source": [
    "# identify reactions with expression imposed maximum bounds whose feasible FVA maximum flux is smaller than the imposed upper bound\n",
    "\n",
    "restricted_reactions = []\n",
    "\n",
    "for rxn in model.reactions:\n",
    "    if rxn.id in expression_dict:  \n",
    "        if rxn.id == \"FORt\":\n",
    "            continue\n",
    "     # only consider reactions where we imposed bounds from expression data\n",
    "    if rxn.id in expression_dict: \n",
    "        # the bound we set in Exercise 2\n",
    "        max_bound = rxn.upper_bound  \n",
    "        max_fva = fva.loc[rxn.id, \"maximum\"]  \n",
    "        # FVA finds a positive flux, but smaller than the imposed bound\n",
    "        if (max_fva > 0) and (max_fva < max_bound):\n",
    "            restricted_reactions.append(rxn.id)\n",
    "\n",
    "print(\"Number of reactions with max FVA flux < upper bound:\", len(restricted_reactions))\n",
    "print(\"List of these reactions:\", restricted_reactions)"
   ]
  },
  {
   "cell_type": "code",
   "execution_count": 19,
   "metadata": {},
   "outputs": [
    {
     "name": "stdout",
     "output_type": "stream",
     "text": [
      "Number of reactions with positive minimal flux: 16\n",
      "List of these reactions: ['PFK', 'ATPM', 'ATPS4r', 'PTAr', 'CS', 'CYTBD', 'ENO', 'TPI', 'EX_h_e', 'EX_h2o_e', 'FBA', 'GAPD', 'GLCpts', 'ICDHyr', 'NADH16', 'O2t']\n"
     ]
    }
   ],
   "source": [
    "# number of reactions that have a positive minimal flux \n",
    "\n",
    "# if the minimum value in FVA is >0 this reaction always carry flux in forward direction\n",
    "positive_minimal_flux = fva[fva[\"minimum\"] > 0]\n",
    "\n",
    "print(\"Number of reactions with positive minimal flux:\", len(positive_minimal_flux))\n",
    "print(\"List of these reactions:\", list(positive_minimal_flux.index))"
   ]
  },
  {
   "cell_type": "markdown",
   "metadata": {},
   "source": [
    "# Excercise 4"
   ]
  },
  {
   "cell_type": "markdown",
   "metadata": {},
   "source": []
  },
  {
   "cell_type": "code",
   "execution_count": null,
   "metadata": {},
   "outputs": [],
   "source": []
  },
  {
   "cell_type": "code",
   "execution_count": null,
   "metadata": {},
   "outputs": [],
   "source": []
  }
 ],
 "metadata": {
  "kernelspec": {
   "display_name": "base",
   "language": "python",
   "name": "python3"
  },
  "language_info": {
   "codemirror_mode": {
    "name": "ipython",
    "version": 3
   },
   "file_extension": ".py",
   "mimetype": "text/x-python",
   "name": "python",
   "nbconvert_exporter": "python",
   "pygments_lexer": "ipython3",
   "version": "3.12.7"
  },
  "orig_nbformat": 4
 },
 "nbformat": 4,
 "nbformat_minor": 2
}
